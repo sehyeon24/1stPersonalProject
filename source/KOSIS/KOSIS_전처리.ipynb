{
 "cells": [
  {
   "cell_type": "code",
   "execution_count": 1,
   "id": "d97530b9-c71b-4a8f-b19e-78b8cd9c47df",
   "metadata": {},
   "outputs": [],
   "source": [
    "import pandas as pd"
   ]
  },
  {
   "cell_type": "code",
   "execution_count": 2,
   "id": "1e4658a1-a58f-41b1-adab-e22afbabe4fa",
   "metadata": {},
   "outputs": [],
   "source": [
    "pd.options.display.max_columns = 100 # 39열까지 display 가능\n",
    "pd.options.display.max_rows =100 # 40행까지display 가능"
   ]
  },
  {
   "cell_type": "markdown",
   "id": "28f43087-fceb-473b-8530-80fb5502cb2a",
   "metadata": {},
   "source": [
    "# 현재 비흡연자의 직장실 내 간접흡연 노출률 추이 (2022)"
   ]
  },
  {
   "cell_type": "code",
   "execution_count": 3,
   "id": "698b0ad9-aa54-4e96-bf94-bdd50ed99f54",
   "metadata": {
    "scrolled": true
   },
   "outputs": [
    {
     "data": {
      "text/html": [
       "<div>\n",
       "<style scoped>\n",
       "    .dataframe tbody tr th:only-of-type {\n",
       "        vertical-align: middle;\n",
       "    }\n",
       "\n",
       "    .dataframe tbody tr th {\n",
       "        vertical-align: top;\n",
       "    }\n",
       "\n",
       "    .dataframe thead th {\n",
       "        text-align: right;\n",
       "    }\n",
       "</style>\n",
       "<table border=\"1\" class=\"dataframe\">\n",
       "  <thead>\n",
       "    <tr style=\"text-align: right;\">\n",
       "      <th></th>\n",
       "      <th>연도</th>\n",
       "      <th>성별</th>\n",
       "      <th>특성별(1)</th>\n",
       "      <th>특성별(2)</th>\n",
       "      <th>응답자수(명)</th>\n",
       "      <th>분율(%)</th>\n",
       "      <th>표준오차</th>\n",
       "    </tr>\n",
       "  </thead>\n",
       "  <tbody>\n",
       "    <tr>\n",
       "      <th>0</th>\n",
       "      <td>2022</td>\n",
       "      <td>전체</td>\n",
       "      <td>전체</td>\n",
       "      <td>19세이상</td>\n",
       "      <td>2455</td>\n",
       "      <td>6.1</td>\n",
       "      <td>0.6</td>\n",
       "    </tr>\n",
       "    <tr>\n",
       "      <th>1</th>\n",
       "      <td>2022</td>\n",
       "      <td>전체</td>\n",
       "      <td>전체</td>\n",
       "      <td>19세이상(표준화)</td>\n",
       "      <td>2455</td>\n",
       "      <td>6.3</td>\n",
       "      <td>0.6</td>\n",
       "    </tr>\n",
       "    <tr>\n",
       "      <th>2</th>\n",
       "      <td>2022</td>\n",
       "      <td>전체</td>\n",
       "      <td>연령별1</td>\n",
       "      <td>19-29세</td>\n",
       "      <td>297</td>\n",
       "      <td>4.7</td>\n",
       "      <td>1.2</td>\n",
       "    </tr>\n",
       "    <tr>\n",
       "      <th>3</th>\n",
       "      <td>2022</td>\n",
       "      <td>전체</td>\n",
       "      <td>연령별1</td>\n",
       "      <td>30-39세</td>\n",
       "      <td>389</td>\n",
       "      <td>8.9</td>\n",
       "      <td>1.5</td>\n",
       "    </tr>\n",
       "    <tr>\n",
       "      <th>4</th>\n",
       "      <td>2022</td>\n",
       "      <td>전체</td>\n",
       "      <td>연령별1</td>\n",
       "      <td>40-49세</td>\n",
       "      <td>480</td>\n",
       "      <td>8.5</td>\n",
       "      <td>1.5</td>\n",
       "    </tr>\n",
       "  </tbody>\n",
       "</table>\n",
       "</div>"
      ],
      "text/plain": [
       "     연도  성별 특성별(1)      특성별(2)  응답자수(명) 분율(%) 표준오차\n",
       "0  2022  전체     전체       19세이상     2455   6.1  0.6\n",
       "1  2022  전체     전체  19세이상(표준화)     2455   6.3  0.6\n",
       "2  2022  전체   연령별1      19-29세      297   4.7  1.2\n",
       "3  2022  전체   연령별1      30-39세      389   8.9  1.5\n",
       "4  2022  전체   연령별1      40-49세      480   8.5  1.5"
      ]
     },
     "execution_count": 3,
     "metadata": {},
     "output_type": "execute_result"
    }
   ],
   "source": [
    "KOSIS1 = pd.read_csv('../csv_file/KOSIS/현재_비흡연자의_직장실내_간접흡연_노출률_추이_20250107130043.csv', skiprows=1)\n",
    "KOSIS1['연도'] = '2022'\n",
    "KOSIS1 = KOSIS1.rename(columns={'성별(1)':'성별', '응답자수 (명)':'응답자수(명)', '분율 (%)':'분율(%)'})\n",
    "KOSIS1 = KOSIS1[['연도', '성별', '특성별(1)', '특성별(2)', '응답자수(명)', '분율(%)', '표준오차']]\n",
    "KOSIS1.head()"
   ]
  },
  {
   "cell_type": "code",
   "execution_count": 4,
   "id": "4fb2ea16-211c-4cad-baad-5abd162250b3",
   "metadata": {},
   "outputs": [],
   "source": [
    "KOSIS1 = KOSIS1.replace('-', 0)"
   ]
  },
  {
   "cell_type": "code",
   "execution_count": 5,
   "id": "d338f2b3-a1fa-48c2-ae96-d419c22175fa",
   "metadata": {},
   "outputs": [],
   "source": [
    "KOSIS1.to_csv('file/KOSIS1_현재_비흡연자의_직장실내_간접흡연_노출률_추이_2022.csv', index=False)"
   ]
  },
  {
   "cell_type": "code",
   "execution_count": 6,
   "id": "f3ab9a60-79f0-458f-b7c7-4da07a7f5e2f",
   "metadata": {},
   "outputs": [],
   "source": [
    "# grouped = KOSIS1.groupby(\"성별\").apply(lambda x: x.reset_index(drop=True)).reset_index(drop=True)\n",
    "# grouped.set_index('성별')\n",
    "\n",
    "# display(grouped)"
   ]
  },
  {
   "cell_type": "code",
   "execution_count": 7,
   "id": "37f935ea-ad88-48b9-b236-b1d57fb0dac2",
   "metadata": {},
   "outputs": [],
   "source": [
    "# KOSIS1_whole = KOSIS1[:24]\n",
    "# KOSIS1_whole"
   ]
  },
  {
   "cell_type": "code",
   "execution_count": 8,
   "id": "001067b9-85e0-4955-a0c9-04fab5110ce2",
   "metadata": {},
   "outputs": [],
   "source": [
    "# KOSIS1_male = KOSIS1[24:48]\n",
    "# KOSIS1_male"
   ]
  },
  {
   "cell_type": "code",
   "execution_count": 9,
   "id": "34c6cc9a-6307-4640-b241-16f97ebcc204",
   "metadata": {},
   "outputs": [],
   "source": [
    "# KOSIS1_female = KOSIS1[48:]\n",
    "# KOSIS1_female"
   ]
  },
  {
   "cell_type": "markdown",
   "id": "a09e6b51-ca11-41bb-9918-5cdaf11afcea",
   "metadata": {},
   "source": [
    "# 현재 흡연률 일반담배(권렬형) 현재사용률 (2024)"
   ]
  },
  {
   "cell_type": "code",
   "execution_count": 10,
   "id": "ece7575b-a205-4109-954e-d37196150f62",
   "metadata": {
    "scrolled": true
   },
   "outputs": [
    {
     "data": {
      "text/html": [
       "<div>\n",
       "<style scoped>\n",
       "    .dataframe tbody tr th:only-of-type {\n",
       "        vertical-align: middle;\n",
       "    }\n",
       "\n",
       "    .dataframe tbody tr th {\n",
       "        vertical-align: top;\n",
       "    }\n",
       "\n",
       "    .dataframe thead th {\n",
       "        text-align: right;\n",
       "    }\n",
       "</style>\n",
       "<table border=\"1\" class=\"dataframe\">\n",
       "  <thead>\n",
       "    <tr style=\"text-align: right;\">\n",
       "      <th></th>\n",
       "      <th>연도</th>\n",
       "      <th>성별</th>\n",
       "      <th>응답자특성별(1)</th>\n",
       "      <th>응답자특성별(2)</th>\n",
       "      <th>분석대상자수(명)</th>\n",
       "      <th>흡연율</th>\n",
       "      <th>표준오차</th>\n",
       "    </tr>\n",
       "  </thead>\n",
       "  <tbody>\n",
       "    <tr>\n",
       "      <th>0</th>\n",
       "      <td>2024</td>\n",
       "      <td>전체</td>\n",
       "      <td>전체</td>\n",
       "      <td>소계</td>\n",
       "      <td>54653</td>\n",
       "      <td>3.6</td>\n",
       "      <td>0.1</td>\n",
       "    </tr>\n",
       "    <tr>\n",
       "      <th>1</th>\n",
       "      <td>2024</td>\n",
       "      <td>전체</td>\n",
       "      <td>학년별</td>\n",
       "      <td>중1</td>\n",
       "      <td>9887</td>\n",
       "      <td>0.5</td>\n",
       "      <td>0.1</td>\n",
       "    </tr>\n",
       "    <tr>\n",
       "      <th>2</th>\n",
       "      <td>2024</td>\n",
       "      <td>전체</td>\n",
       "      <td>학년별</td>\n",
       "      <td>중2</td>\n",
       "      <td>9725</td>\n",
       "      <td>1.9</td>\n",
       "      <td>0.1</td>\n",
       "    </tr>\n",
       "    <tr>\n",
       "      <th>3</th>\n",
       "      <td>2024</td>\n",
       "      <td>전체</td>\n",
       "      <td>학년별</td>\n",
       "      <td>중3</td>\n",
       "      <td>9475</td>\n",
       "      <td>2.8</td>\n",
       "      <td>0.2</td>\n",
       "    </tr>\n",
       "    <tr>\n",
       "      <th>4</th>\n",
       "      <td>2024</td>\n",
       "      <td>전체</td>\n",
       "      <td>학년별</td>\n",
       "      <td>고1</td>\n",
       "      <td>8972</td>\n",
       "      <td>4.0</td>\n",
       "      <td>0.3</td>\n",
       "    </tr>\n",
       "  </tbody>\n",
       "</table>\n",
       "</div>"
      ],
      "text/plain": [
       "     연도  성별 응답자특성별(1) 응답자특성별(2)  분석대상자수(명)  흡연율  표준오차\n",
       "0  2024  전체        전체        소계      54653  3.6   0.1\n",
       "1  2024  전체       학년별        중1       9887  0.5   0.1\n",
       "2  2024  전체       학년별        중2       9725  1.9   0.1\n",
       "3  2024  전체       학년별        중3       9475  2.8   0.2\n",
       "4  2024  전체       학년별        고1       8972  4.0   0.3"
      ]
     },
     "execution_count": 10,
     "metadata": {},
     "output_type": "execute_result"
    }
   ],
   "source": [
    "KOSIS2 = pd.read_csv('../csv_file/KOSIS/현재_흡연율_일반담배_궐련__현재사용률__20250107125944.csv', skiprows=1)\n",
    "KOSIS2['연도'] = '2024'\n",
    "KOSIS2 = KOSIS2.rename(columns={'성별(1)':'성별', '분석대상자수 (명)':'분석대상자수(명)', '흡연율 (%)':'흡연율', '분율 (%)':'분율(%)'})\n",
    "KOSIS2 = KOSIS2[['연도', '성별', '응답자특성별(1)', '응답자특성별(2)', '분석대상자수(명)', '흡연율', '표준오차']]\n",
    "KOSIS2.head()"
   ]
  },
  {
   "cell_type": "code",
   "execution_count": 11,
   "id": "57684774-2862-492b-9a60-425dfd23a5bf",
   "metadata": {},
   "outputs": [],
   "source": [
    "KOSIS2.to_csv('file/KOSIS2_현재_흡연률_일반담배_궐련_현재사용률_2024.csv', index=False)"
   ]
  },
  {
   "cell_type": "code",
   "execution_count": 12,
   "id": "9f558e7f-cf82-4449-b73c-0a3c92a035da",
   "metadata": {
    "scrolled": true
   },
   "outputs": [],
   "source": [
    "# KOSIS2_whole = KOSIS2[:26]\n",
    "# KOSIS2_whole"
   ]
  },
  {
   "cell_type": "code",
   "execution_count": 13,
   "id": "f4b937c7-b126-46fc-a422-66cabc9b569e",
   "metadata": {
    "scrolled": true
   },
   "outputs": [],
   "source": [
    "# KOSIS2_male = KOSIS2[26:52]\n",
    "# KOSIS2_male"
   ]
  },
  {
   "cell_type": "code",
   "execution_count": 14,
   "id": "353e7f1f-6e42-416b-a17b-4251f8fde97a",
   "metadata": {
    "scrolled": true
   },
   "outputs": [],
   "source": [
    "# KOSIS2_female = KOSIS2[52:]\n",
    "# KOSIS2_female"
   ]
  },
  {
   "cell_type": "markdown",
   "id": "e02b32cb-6ddd-44a8-b55c-d04fd76a857e",
   "metadata": {},
   "source": [
    "# 현재 흡연률 일반담배(권렬형) 기준 추이 (2022)"
   ]
  },
  {
   "cell_type": "code",
   "execution_count": 15,
   "id": "d9773abd-07cb-4248-936a-7f2e0c136361",
   "metadata": {
    "scrolled": true
   },
   "outputs": [],
   "source": [
    "# KOSIS3 = pd.read_csv('../csv_file/KOSIS/현재흡연율_일반담배_궐련__기준__추이_20250107130103.csv', skiprows=1)\n",
    "# KOSIS3['연도'] = '2022'\n",
    "# KOSIS3 = KOSIS3.rename(columns={'성별(1)':'성별', '응답자수 (명)':'응답자수(명)', '분율 (%)':'분율(%)'})\n",
    "# KOSIS3 = KOSIS3[['연도', '성별', '특성별(1)', '특성별(2)', '응답자수(명)', '분율(%)', '표준오차']]\n",
    "# KOSIS3.head()"
   ]
  },
  {
   "cell_type": "code",
   "execution_count": 16,
   "id": "b3261e4e-9ce8-4cbc-9b90-531f706c48e6",
   "metadata": {},
   "outputs": [],
   "source": [
    "# KOSIS3.to_csv('file/KOSIS3_현재흡연률_일반담배_궐련_기준_추이_2022.csv', index=False)"
   ]
  },
  {
   "cell_type": "code",
   "execution_count": 17,
   "id": "0f3eced3-bfd6-4f57-b09d-e4d49dbaadcc",
   "metadata": {
    "scrolled": true
   },
   "outputs": [],
   "source": [
    "# KOSIS3_whole = KOSIS3[:24]\n",
    "# KOSIS3_whole"
   ]
  },
  {
   "cell_type": "code",
   "execution_count": 18,
   "id": "e875877a-06d7-45eb-b7be-ec46f1d8df3f",
   "metadata": {
    "scrolled": true
   },
   "outputs": [],
   "source": [
    "# KOSIS3_male = KOSIS3[24:48]\n",
    "# KOSIS3_male"
   ]
  },
  {
   "cell_type": "code",
   "execution_count": 19,
   "id": "200325fe-beba-421c-8db3-7cd3f4f3e3a3",
   "metadata": {
    "scrolled": true
   },
   "outputs": [],
   "source": [
    "# KOSIS3_female = KOSIS3[48:]\n",
    "# KOSIS3_female"
   ]
  },
  {
   "cell_type": "code",
   "execution_count": null,
   "id": "ba41fa6b-d497-438c-adc3-add3de2d2001",
   "metadata": {},
   "outputs": [],
   "source": []
  }
 ],
 "metadata": {
  "kernelspec": {
   "display_name": "Python 3 (ipykernel)",
   "language": "python",
   "name": "python3"
  },
  "language_info": {
   "codemirror_mode": {
    "name": "ipython",
    "version": 3
   },
   "file_extension": ".py",
   "mimetype": "text/x-python",
   "name": "python",
   "nbconvert_exporter": "python",
   "pygments_lexer": "ipython3",
   "version": "3.12.2"
  }
 },
 "nbformat": 4,
 "nbformat_minor": 5
}
